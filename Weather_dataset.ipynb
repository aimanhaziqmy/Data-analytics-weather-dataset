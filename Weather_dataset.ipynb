{
  "nbformat": 4,
  "nbformat_minor": 0,
  "metadata": {
    "colab": {
      "provenance": [],
      "authorship_tag": "ABX9TyPlr1lz0jv9jfvhiwF/u7dF",
      "include_colab_link": true
    },
    "kernelspec": {
      "name": "python3",
      "display_name": "Python 3"
    },
    "language_info": {
      "name": "python"
    }
  },
  "cells": [
    {
      "cell_type": "markdown",
      "metadata": {
        "id": "view-in-github",
        "colab_type": "text"
      },
      "source": [
        "<a href=\"https://colab.research.google.com/github/aimanhaziqmy/Data-analytics-weather-dataset/blob/main/Weather_dataset.ipynb\" target=\"_parent\"><img src=\"https://colab.research.google.com/assets/colab-badge.svg\" alt=\"Open In Colab\"/></a>"
      ]
    },
    {
      "cell_type": "markdown",
      "source": [
        "#The Weather Dataset\n",
        "\n",
        "Weather dataset is a time-series dataset with per-hour information about the weather conditions at particular location. Data available in CSV format.\n",
        "\n",
        "Column available :\n",
        "\n",
        "- Temperature\n",
        "- Dew Point Temperature\n",
        "- Relative Humidity\n",
        "- Wind Speed\n",
        "- Visibility\n",
        "- Pressure\n",
        "- Conditions"
      ],
      "metadata": {
        "id": "5nVSnMOcZ0O_"
      }
    },
    {
      "cell_type": "code",
      "execution_count": null,
      "metadata": {
        "id": "uTv0MsK-ZdGY"
      },
      "outputs": [],
      "source": []
    }
  ]
}